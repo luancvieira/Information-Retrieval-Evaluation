{
 "cells": [
  {
   "attachments": {},
   "cell_type": "markdown",
   "metadata": {},
   "source": [
    "Leitura dos pacotes"
   ]
  },
  {
   "cell_type": "code",
   "execution_count": 1,
   "metadata": {},
   "outputs": [
    {
     "name": "stdout",
     "output_type": "stream",
     "text": [
      "Requirement already satisfied: lxml in c:\\users\\luanc\\appdata\\local\\programs\\python\\python310\\lib\\site-packages (4.9.2)\n",
      "Note: you may need to restart the kernel to use updated packages.\n",
      "Requirement already satisfied: unidecode in c:\\users\\luanc\\appdata\\local\\programs\\python\\python310\\lib\\site-packages (1.3.6)\n",
      "Note: you may need to restart the kernel to use updated packages.\n"
     ]
    },
    {
     "name": "stderr",
     "output_type": "stream",
     "text": [
      "[nltk_data] Downloading package punkt to\n",
      "[nltk_data]     C:\\Users\\luanc\\AppData\\Roaming\\nltk_data...\n",
      "[nltk_data]   Package punkt is already up-to-date!\n"
     ]
    }
   ],
   "source": [
    "%pip install lxml\n",
    "%pip install unidecode\n",
    "import os\n",
    "import sys\n",
    "import xml.etree.ElementTree as ET\n",
    "import nltk\n",
    "from nltk.tokenize import RegexpTokenizer\n",
    "from unidecode import unidecode\n",
    "import pandas as pd\n",
    "import pickle\n",
    "import sklearn\n",
    "from sklearn.metrics.pairwise import cosine_similarity\n",
    "from sklearn.feature_extraction.text import TfidfVectorizer\n",
    "import numpy as np\n",
    "import csv\n",
    "import pandas as pd\n",
    "import logging\n",
    "from nltk.tokenize import word_tokenize\n",
    "nltk.download('punkt')\n",
    "import re\n",
    "import matplotlib.pyplot as plt\n",
    "from sklearn.metrics import precision_recall_curve\n",
    "from nltk.stem import PorterStemmer\n",
    "from sklearn.metrics import dcg_score\n",
    "from sklearn.metrics import ndcg_score"
   ]
  },
  {
   "attachments": {},
   "cell_type": "markdown",
   "metadata": {},
   "source": [
    "Data Prep"
   ]
  },
  {
   "attachments": {},
   "cell_type": "markdown",
   "metadata": {},
   "source": [
    "Retornar para pasta raiz, assumindo execução da pasta \"./src\". Se não for o caso alterar para os.chdir(pasta_raiz)"
   ]
  },
  {
   "cell_type": "code",
   "execution_count": 2,
   "metadata": {},
   "outputs": [],
   "source": [
    "os.chdir('..')"
   ]
  },
  {
   "cell_type": "code",
   "execution_count": 3,
   "metadata": {},
   "outputs": [],
   "source": [
    "if not os.path.exists(\"RESULT\"):\n",
    "    os.makedirs(\"RESULT\")"
   ]
  },
  {
   "cell_type": "code",
   "execution_count": 4,
   "metadata": {},
   "outputs": [],
   "source": [
    "logger = logging.getLogger(__name__)\n",
    "\n",
    "f_handler = logging.FileHandler('./RESULT/logs.log', mode='w')\n",
    "f_handler.setLevel(logging.DEBUG)\n",
    "logger.setLevel(logging.DEBUG)\n",
    "\n",
    "f_format = logging.Formatter(\"%(levelname)s: %(message)s\")\n",
    "f_handler.setFormatter(f_format)\n",
    "\n",
    "logger.addHandler(f_handler)"
   ]
  },
  {
   "cell_type": "code",
   "execution_count": 5,
   "metadata": {},
   "outputs": [],
   "source": [
    "def check_error():\n",
    "    with open('RESULT/logs.log', 'r') as f:\n",
    "        log_content = f.read()\n",
    "    if 'ERROR' in log_content:\n",
    "        logger.critical(\"Execution interrupted. Adjust informed erros\")\n",
    "        f.close()\n",
    "        sys.exit(1)"
   ]
  },
  {
   "cell_type": "code",
   "execution_count": 6,
   "metadata": {},
   "outputs": [],
   "source": [
    "config_files = {\n",
    "    \"gli\": {\"field\": [\"LEIA\",\"ESCREVA\"]},\n",
    "    \"busca\": {\"field\": [\"MODELO\", \"CONSULTAS\", \"RESULTADOS\"]},\n",
    "    \"pc\": {\"field\": [\"LEIA\", \"CONSULTAS\", \"ESPERADOS\"]}, #read only once\n",
    "    \"index\": {\"field\": [\"LEIA\",\"ESCREVA\"]}  #read only once\n",
    "}"
   ]
  },
  {
   "cell_type": "code",
   "execution_count": 7,
   "metadata": {},
   "outputs": [],
   "source": [
    "cfg_file = \"gli.cfg\"\n",
    "logger.info(\"Reading config file \" + cfg_file)\n",
    "gli_stemmer = False\n",
    "with open(os.path.join(\"config_files\", cfg_file), \"r\") as f:\n",
    "    lines = f.readlines()\n",
    "    if lines[0].replace(\" \",\"\").replace(\"\\n\", \"\") == \"STEMMER\":\n",
    "        gli_stemmer = True\n",
    "    elif lines[0].replace(\" \",\"\").replace(\"\\n\", \"\") ==\"NOSTEMMER\":\n",
    "        gli_stemmer = False\n",
    "    else:\n",
    "    # if option is not 'STEMMER' or 'NOSTEMMER', log error\n",
    "        logger.error(f\"Error: stemmer selection is not valid in {cfg_file}\")\n",
    "        \n",
    "    fields = [config_files[name]['field'] for name in config_files if cfg_file.endswith(name + '.cfg')][0]\n",
    "    gli_read = []\n",
    "    for line in lines[1:]:\n",
    "    # check if line has format \"field=file_path\"\n",
    "        field, file_path = line.strip().split('=')\n",
    "        # if field is 'LEIA', add file_path to gli_read\n",
    "        if field == 'LEIA':\n",
    "            gli_read.append(file_path)\n",
    "            # check if file_path exists\n",
    "            if not os.path.exists(file_path):\n",
    "                logger.error(f\"Error: {file_path} doesn't exist\")\n",
    "        # if field is 'ESCREVA', check that it is the last field\n",
    "        elif field == 'ESCREVA':\n",
    "            if field not in fields[-1]:\n",
    "                logger.error(f\"Error: {field} field should be the last field in {cfg_file}\")\n",
    "            gli_write = file_path\n",
    "        # if field is not 'LEIA' or 'ESCREVA', log error\n",
    "\n",
    "        elif field not in fields:\n",
    "            logger.error(f\"Error: {field} is not a valid field in {cfg_file}\")\n",
    "    # check that all LEIA files exist\n",
    "    for leia_file in gli_read:\n",
    "        if not os.path.exists(leia_file):\n",
    "            print(f\"Error: {leia_file} doesn't exist\")\n",
    "    # check that all fields are present\n",
    "    if set(fields) != set(['LEIA', 'ESCREVA']):\n",
    "        print(f\"Error: {cfg_file} should have only 'LEIA' and 'ESCREVA' fields\")\n",
    "    if gli_stemmer:\n",
    "        gli_write = gli_write[:-4] + \"-STEMMER\" + \".csv\"\n",
    "    else:\n",
    "        gli_write = gli_write[:-4] + \"-NOSTEMMER\" + \".csv\""
   ]
  },
  {
   "cell_type": "code",
   "execution_count": 8,
   "metadata": {},
   "outputs": [],
   "source": [
    "cfg_file = \"busca.cfg\"\n",
    "logger.info(\"Reading config file \" + cfg_file)\n",
    "\n",
    "busca_model = None\n",
    "busca_queries = None\n",
    "busca_results = None\n",
    "\n",
    "\n",
    "with open(os.path.join(\"config_files\", cfg_file), \"r\") as f:\n",
    "    lines = f.readlines()\n",
    "    fields = [config_files[name]['field'] for name in config_files if cfg_file.endswith(name + '.cfg')][0]\n",
    "\n",
    "\n",
    "    for line in lines:\n",
    "        # check if line has format \"field=file_path\"\n",
    "        field, file_path = line.strip().split('=')\n",
    "        # if field is 'LEIA', add file_path to gli_read\n",
    "        if field == 'MODELO':\n",
    "            if busca_model != None:\n",
    "                logger.error(f\"Repeated field in {cfg_file}\")\n",
    "            busca_model = file_path\n",
    "            \n",
    "        # if field is 'ESCREVA', check that it is the last field\n",
    "        elif field == 'CONSULTAS':\n",
    "            if busca_queries != None:\n",
    "                logger.error(f\"Repeated field in {cfg_file}\")\n",
    "            busca_queries = file_path\n",
    "\n",
    "        elif field == 'RESULTADOS':\n",
    "            if busca_results != None:\n",
    "                logger.error(f\"Repeated field in {cfg_file}\")\n",
    "            busca_results = file_path\n",
    "\n",
    "        # if field is not correct, log error\n",
    "        elif field not in fields:\n",
    "            logger.error(f\"Error: {field} is not a valid field in {cfg_file}\")\n",
    "    # check that all fields are present\n",
    "    if set(fields) != set(['MODELO', 'CONSULTAS','RESULTADOS']):\n",
    "        logger.error(f\"Error in {cfg_file} adjust fields accordingly\")\n",
    "    if gli_stemmer:\n",
    "        busca_results = busca_results[:-4] + \"-STEMMER\" + \".csv\"\n",
    "    else:\n",
    "        busca_results = busca_results[:-4] + \"-NOSTEMMER\" + \".csv\""
   ]
  },
  {
   "cell_type": "code",
   "execution_count": 9,
   "metadata": {},
   "outputs": [],
   "source": [
    "cfg_file = \"index.cfg\"\n",
    "logger.info(\"Reading config file \" + cfg_file)\n",
    "\n",
    "index_read = None\n",
    "index_write = None\n",
    "\n",
    "with open(os.path.join(\"config_files\", cfg_file), \"r\") as f:\n",
    "    lines = f.readlines()\n",
    "    fields = [config_files[name]['field'] for name in config_files if cfg_file.endswith(name + '.cfg')][0]\n",
    "    for line in lines:    \n",
    "    # check if line has format \"field=file_path\"\n",
    "        field, file_path = line.strip().split('=')\n",
    "        \n",
    "        if field == 'LEIA':\n",
    "            if index_read != None:\n",
    "                logger.error(f\"Repeated field in {cfg_file}\")\n",
    "            index_read = file_path\n",
    "        \n",
    "        elif field == 'ESCREVA':\n",
    "            # if field is 'ESCREVA', check that it is the last field\n",
    "            if field not in fields[-1]:\n",
    "                logger.error(f\"Error: {field} field should be the last field in {cfg_file}\")\n",
    "            if index_write != None:\n",
    "                logger.error(f\"Repeated field in {cfg_file}\")\n",
    "            index_write = file_path\n",
    "        # if field is not 'LEIA' or 'ESCREVA', print error\n",
    "        elif field not in fields:\n",
    "            logger.error(f\"Error: {field} is not a valid field in {cfg_file}\")\n",
    "    # check that all LEIA files exist\n",
    "    for leia_file in gli_read:\n",
    "        if not os.path.exists(leia_file):\n",
    "            logger.error(f\"Error: {leia_file} doesn't exist\")\n",
    "    # check that all fields are present\n",
    "    if set(fields) != set(['LEIA', 'ESCREVA']):\n",
    "        logger.error(f\"Error: {cfg_file} should have only 'LEIA' and 'ESCREVA' fields\")\n",
    "    if gli_stemmer:\n",
    "        index_read = index_read[:-4] + \"-STEMMER\" + \".csv\"\n",
    "    else:\n",
    "        index_read = index_read[:-4] + \"-NOSTEMMER\" + \".csv\""
   ]
  },
  {
   "cell_type": "code",
   "execution_count": 10,
   "metadata": {},
   "outputs": [],
   "source": [
    "cfg_file = \"pc.cfg\"\n",
    "logger.info(\"Reading config file \" + cfg_file)\n",
    "\n",
    "pc_read = None\n",
    "pc_queries = None\n",
    "pc_expected = None\n",
    "pc_stemmer = False\n",
    "\n",
    "with open(os.path.join(\"config_files\", cfg_file), \"r\") as f:\n",
    "    lines = f.readlines()\n",
    "\n",
    "    if lines[0].replace(\" \",\"\").replace(\"\\n\", \"\") == \"STEMMER\":\n",
    "        pc_stemmer = True\n",
    "    elif lines[0].replace(\" \",\"\").replace(\"\\n\", \"\") == \"NOSTEMMER\":\n",
    "        pc_stemmer = False\n",
    "    else:\n",
    "    # if option is not 'STEMMER' or 'NOSTEMMER', log error\n",
    "        logger.error(f\"Error: stemmer selection is not valid in {cfg_file}\")\n",
    "\n",
    "    fields = [config_files[name]['field'] for name in config_files if cfg_file.endswith(name + '.cfg')][0]\n",
    "    for line in lines[1:]:\n",
    "        # check if line has format \"field=file_path\"\n",
    "        field, file_path = line.strip().split('=')\n",
    "        # if field is 'LEIA', add file_path to gli_read\n",
    "        if field == 'LEIA':\n",
    "            if pc_read != None:\n",
    "                logger.error(f\"Repeated field in {cfg_file}\")\n",
    "            pc_read = file_path\n",
    "            \n",
    "        # if field is 'ESCREVA', check that it is the last field\n",
    "        elif field == 'CONSULTAS':\n",
    "            if pc_queries != None:\n",
    "                logger.error(f\"Repeated field in {cfg_file}\")\n",
    "            pc_queries = file_path\n",
    "\n",
    "        elif field == 'ESPERADOS':\n",
    "            if pc_expected != None:\n",
    "                logger.error(f\"Repeated field in {cfg_file}\")\n",
    "            pc_expected = file_path\n",
    "\n",
    "        # if field is not correct, print error\n",
    "        elif field not in fields:\n",
    "            logger.error(f\"Error: {field} is not a valid field in {cfg_file}\")\n",
    "    # check that all fields are present\n",
    "    if set(fields) != set(['LEIA', 'CONSULTAS','ESPERADOS']):\n",
    "        logger.error(f\"Error: {cfg_file} adjust fields accordingly\")\n"
   ]
  },
  {
   "cell_type": "code",
   "execution_count": 11,
   "metadata": {},
   "outputs": [],
   "source": [
    "check_error()"
   ]
  },
  {
   "cell_type": "code",
   "execution_count": 12,
   "metadata": {},
   "outputs": [
    {
     "name": "stdout",
     "output_type": "stream",
     "text": [
      "Generate inverse list read file(s): ['CysticFibrosis2-20230331/data/cf74.xml', 'CysticFibrosis2-20230331/data/cf75.xml', 'CysticFibrosis2-20230331/data/cf76.xml', 'CysticFibrosis2-20230331/data/cf77.xml', 'CysticFibrosis2-20230331/data/cf78.xml', 'CysticFibrosis2-20230331/data/cf79.xml']\n",
      "Generate inverse list write file: RESULT/LISTA INVERSA-STEMMER.csv\n",
      "Searcher model: RESULT/ModeloTFIDF.pkl\n",
      "Searcher queries: RESULT/CONSULTAS.csv\n",
      "Searcher results: RESULT/RESULTADOS-STEMMER.csv\n",
      "Query processor read file: CysticFibrosis2-20230331/data/cfquery.xml\n",
      "Query processor query file: RESULT/CONSULTAS.csv\n",
      "Query processor expected file: RESULT/ESPERADOS.csv\n",
      "Index read file: RESULT/LISTA INVERSA-STEMMER.csv\n",
      "Index write file: RESULT/ModeloTFIDF.pkl\n"
     ]
    }
   ],
   "source": [
    "print(f\"Generate inverse list read file(s): {gli_read}\")\n",
    "print(f\"Generate inverse list write file: {gli_write}\")\n",
    "print(f\"Searcher model: {busca_model}\")\n",
    "print(f\"Searcher queries: {busca_queries}\")\n",
    "print(f\"Searcher results: {busca_results}\")\n",
    "print(f\"Query processor read file: {pc_read}\")\n",
    "print(f\"Query processor query file: {pc_queries}\")\n",
    "print(f\"Query processor expected file: {pc_expected}\")\n",
    "print(f\"Index read file: {index_read}\")\n",
    "print(f\"Index write file: {index_write}\")"
   ]
  },
  {
   "cell_type": "code",
   "execution_count": 13,
   "metadata": {},
   "outputs": [],
   "source": [
    "paths = gli_read + [gli_write] + [busca_model] + [busca_queries] + [busca_results] + [pc_read] + [pc_queries] + [pc_expected] + [index_read] + [index_write]\n",
    "for file_path in paths:\n",
    "    dir_path = os.path.dirname(file_path)\n",
    "    if not os.path.exists(dir_path):\n",
    "        os.makedirs(dir_path)"
   ]
  },
  {
   "attachments": {},
   "cell_type": "markdown",
   "metadata": {},
   "source": [
    "Module 1 - Query Processor"
   ]
  },
  {
   "cell_type": "code",
   "execution_count": 14,
   "metadata": {},
   "outputs": [],
   "source": [
    "logger.info(\"Module 1: Query processor started\")\n",
    "def process_query_text(query):\n",
    "    words = word_tokenize(query)\n",
    "\n",
    "    # Join the words back into a single string\n",
    "    processed_query = \" \".join(words)\n",
    "    # Convert the processed query to uppercase\n",
    "    processed_query = processed_query.upper()\n",
    "    if pc_stemmer:\n",
    "        text = query.upper()\n",
    "        tokenizer = RegexpTokenizer(r'[a-zA-Z]+') \n",
    "        words_list = tokenizer.tokenize(unidecode(text))\n",
    "        words_list = [PorterStemmer().stem(word) for word in words_list]\n",
    "        processed_query = \" \".join(words)\n",
    "    return processed_query"
   ]
  },
  {
   "cell_type": "code",
   "execution_count": 15,
   "metadata": {},
   "outputs": [],
   "source": [
    "def read_queries():\n",
    "    query_file = pc_read\n",
    "    logger.info(\"Reading file \" + query_file)\n",
    "\n",
    "    \n",
    "    tree = ET.parse(query_file)\n",
    "    root = tree.getroot()\n",
    "\n",
    "    queries = {}\n",
    "\n",
    "    for query in root.iter(\"QUERY\"):\n",
    "        query_number = int(query.find(\"QueryNumber\").text)\n",
    "        query_text = re.sub('\\s+', ' ',query.find(\"QueryText\").text.strip().replace(\";\", \" \"))\n",
    "        num_results = int(query.find(\"Results\").text)\n",
    "\n",
    "        query_text = process_query_text(query_text)\n",
    "\n",
    "        queries[query_number] = {\n",
    "            \"query_text\": query_text,\n",
    "            \"num_results\": num_results\n",
    "        }\n",
    "\n",
    "        expected_results = {}\n",
    "\n",
    "        for item in query.iter(\"Item\"):\n",
    "            expected_result = int(item.text)\n",
    "            expected_score = 0\n",
    "\n",
    "            for value in item.get(\"score\"):\n",
    "                expected_score += int(value)\n",
    "\n",
    "            expected_results[expected_result] = expected_score\n",
    "            expected_results\n",
    "        queries[query_number][\"expected_results\"] = expected_results\n",
    "    return queries"
   ]
  },
  {
   "cell_type": "code",
   "execution_count": 16,
   "metadata": {},
   "outputs": [],
   "source": [
    "def write_queries(queries):\n",
    "    query_data_list = []\n",
    "    \n",
    "    for query_number, query_data in queries.items():\n",
    "        expected_results = query_data[\"expected_results\"]\n",
    "\n",
    "        expected_results_str = \";\".join([f\"{doc_num}:{doc_votes}\" for doc_num, doc_votes in expected_results.items()])\n",
    "        query_data_list.append({\"QueryNumber\": query_number, \"QueryText\": query_data[\"query_text\"], \"NumResults\": query_data[\"num_results\"], \"ExpectedResults\": expected_results_str})\n",
    "\n",
    "    queries_df = pd.DataFrame(query_data_list, columns=[\"QueryNumber\", \"QueryText\"])\n",
    "\n",
    "    processed_queries_file = pc_queries\n",
    "    queries_df.to_csv(processed_queries_file, index=False, sep=\";\")\n",
    "    logger.info(\"%d queries read and written to %s.\" % (queries_df.shape[0], processed_queries_file))\n"
   ]
  },
  {
   "cell_type": "code",
   "execution_count": 17,
   "metadata": {},
   "outputs": [],
   "source": [
    "def write_expected(queries):\n",
    "    logger.info(\"Writing expected results.\")\n",
    "    if len(queries.keys()) == 0:\n",
    "        logger.error(\"Method 'read_and_write_queries' must be executed first.\")\n",
    "        return\n",
    "\n",
    "    expected_results_list = []\n",
    "\n",
    "    for query_number in sorted(queries.keys()):\n",
    "        expected_results = queries[query_number][\"expected_results\"]\n",
    "        for document_number in sorted(expected_results, key = expected_results.get, reverse = True):\n",
    "            expected_results_list.append({\"QueryNumber\": query_number, \"DocNumber\": document_number, \"DocVotes\": str(expected_results[document_number])})\n",
    "    \n",
    "    expected_results_df = pd.DataFrame(expected_results_list, columns=[\"QueryNumber\", \"DocNumber\",\"DocVotes\"])\n",
    "\n",
    "    expected_results_file = pc_expected\n",
    "    expected_results_df.to_csv(expected_results_file, index=False, sep=\";\")\n",
    "    logger.info(\"%d expected results written to '%s'.\" % (expected_results_df.shape[0], expected_results_file))"
   ]
  },
  {
   "cell_type": "code",
   "execution_count": 18,
   "metadata": {},
   "outputs": [],
   "source": [
    "def pc_module_run():\n",
    "    queries = read_queries()\n",
    "    write_queries(queries)\n",
    "    write_expected(queries)\n"
   ]
  },
  {
   "attachments": {},
   "cell_type": "markdown",
   "metadata": {},
   "source": [
    "Run Module 1"
   ]
  },
  {
   "cell_type": "code",
   "execution_count": 19,
   "metadata": {},
   "outputs": [],
   "source": [
    "pc_module_run()\n",
    "logger.info(\"Module 1: Query processor finished\")"
   ]
  },
  {
   "attachments": {},
   "cell_type": "markdown",
   "metadata": {},
   "source": [
    "Module 2 - Invert List Generator"
   ]
  },
  {
   "cell_type": "code",
   "execution_count": 20,
   "metadata": {},
   "outputs": [],
   "source": [
    "logger.info(\"Module 2: Inverted List Generator started\")\n",
    "\n",
    "def read_input_files():\n",
    "    input_documents = {}\n",
    "\n",
    "    for path in gli_read:\n",
    "        logger.info(\"Reading file \" + path)\n",
    "\n",
    "        tree = ET.parse(path)\n",
    "        root = tree.getroot()\n",
    "\n",
    "        for document in root.iter(\"RECORD\"):\n",
    "            doc_identifier = document.find(\"RECORDNUM\")\n",
    "            doc_text = document.find(\"ABSTRACT\")\n",
    "\n",
    "            if doc_identifier is not None:\n",
    "                doc_identifier = int(doc_identifier.text.strip())\n",
    "            else:\n",
    "                logger.warning(\"RECORDNUM not found for a doc in  %s\" %path)\n",
    "                continue\n",
    "            if doc_text is None:\n",
    "                doc_text = document.find(\"EXTRACT\")\n",
    "\n",
    "                if doc_text is None:\n",
    "                    logger.warning(\"Document %d in %s without ABSTRACT and EXTRACT.\" %(doc_identifier, path))\n",
    "                    continue\n",
    "\n",
    "            doc_text = doc_text.text.strip()\n",
    "\n",
    "            # logs reading document\n",
    "\n",
    "            input_documents[doc_identifier] = doc_text\n",
    "\n",
    "    return input_documents"
   ]
  },
  {
   "cell_type": "code",
   "execution_count": 21,
   "metadata": {},
   "outputs": [],
   "source": [
    "def generate_inverted_list(input_documents):\n",
    "    inverted_list = {}\n",
    "        \n",
    "    for document_id in sorted(input_documents.keys()):\n",
    "        text = input_documents[document_id].upper()\n",
    "        tokenizer = RegexpTokenizer(r'[a-zA-Z]+') \n",
    "        words_list = tokenizer.tokenize(unidecode(text))\n",
    "\n",
    "        if gli_stemmer:\n",
    "            words_list = [PorterStemmer().stem(word) for word in words_list]\n",
    "\n",
    "        for word in words_list:\n",
    "            if word not in inverted_list:\n",
    "                inverted_list[word] = []\n",
    "\n",
    "            inverted_list[word].append(document_id)\n",
    "\n",
    "    logger.info(\"Inverted list generated with %d terms considered.\" %len(inverted_list))\n",
    "\n",
    "    return inverted_list"
   ]
  },
  {
   "cell_type": "code",
   "execution_count": 22,
   "metadata": {},
   "outputs": [],
   "source": [
    "def save_inverted_list(gli_write, inverted_list):\n",
    "\n",
    "    inverted_df = pd.DataFrame({\"term\": sorted(inverted_list.keys()), \"indexes\": [sorted(inverted_list[term]) for term in sorted(inverted_list.keys())]})\n",
    "    inverted_df[\"indexes\"] = inverted_df[\"indexes\"].apply(lambda x: \"[\" + \",\".join(str(num) for num in x) + \"]\")\n",
    "    inverted_df.to_csv(gli_write, sep=\";\", index=False,header = False)\n",
    "\n",
    "    total_terms = inverted_df.shape[0]\n",
    "    logger.info(\"%d terms written. Saved inverted list to '%s'\" % (total_terms, gli_write))"
   ]
  },
  {
   "cell_type": "code",
   "execution_count": 23,
   "metadata": {},
   "outputs": [],
   "source": [
    "def gli_module_run():\n",
    "    input_documents = read_input_files()\n",
    "    inverted_list = generate_inverted_list(input_documents)\n",
    "    save_inverted_list(gli_write, inverted_list)"
   ]
  },
  {
   "attachments": {},
   "cell_type": "markdown",
   "metadata": {},
   "source": [
    "Run Module 2"
   ]
  },
  {
   "cell_type": "code",
   "execution_count": 24,
   "metadata": {},
   "outputs": [],
   "source": [
    "gli_module_run()\n",
    "logger.info(\"Module 2: Generate Inverted List finished\")"
   ]
  },
  {
   "attachments": {},
   "cell_type": "markdown",
   "metadata": {},
   "source": [
    "Module 3 - Indexer"
   ]
  },
  {
   "cell_type": "code",
   "execution_count": 25,
   "metadata": {},
   "outputs": [],
   "source": [
    "logger.info(\"Module 3: Index started\")\n",
    "\n",
    "def read_docs_dict(index_read, min_length_word=2):\n",
    "    docs_dict = {}\n",
    "\n",
    "    with open(index_read, 'r') as f:\n",
    "        reader = csv.reader(f, delimiter=';')\n",
    "        for row in reader:\n",
    "            word = row[0]\n",
    "            if len(word) >= min_length_word:\n",
    "                docs = [int(doc) for doc in row[1][1:-1].split(',')]\n",
    "                docs_dict[word] = docs\n",
    "    logger.info(\"Loading word and documents data from %s\" %index_read)\n",
    "\n",
    "    return docs_dict"
   ]
  },
  {
   "cell_type": "code",
   "execution_count": 26,
   "metadata": {},
   "outputs": [],
   "source": [
    "def get_tfidf_model(docs_dict):\n",
    "    docs = []\n",
    "    for doc_index in set([doc for docs in docs_dict.values() for doc in docs]):\n",
    "        doc = ' '.join([word for word, docs in docs_dict.items() if doc_index in docs])\n",
    "        docs.append(doc)\n",
    "\n",
    "    vectorizer = TfidfVectorizer()\n",
    "    tfidf_matrix = vectorizer.fit_transform(docs)\n",
    "\n",
    "    logger.info(\"tfidf matrix created.\")\n",
    "    return tfidf_matrix, vectorizer\n",
    "    \n",
    "#dense_matrix = tfidf_matrix.toarray()"
   ]
  },
  {
   "cell_type": "code",
   "execution_count": 27,
   "metadata": {},
   "outputs": [],
   "source": [
    "def save_model(tfidf_matrix, vectorizer, index_write):\n",
    "    with open(index_write, 'wb') as f:\n",
    "        pickle.dump((tfidf_matrix, vectorizer), f)\n",
    "    logger.info(\"tfidf matrix and vectorizer saved to %s.\"%index_write)"
   ]
  },
  {
   "cell_type": "code",
   "execution_count": 28,
   "metadata": {},
   "outputs": [],
   "source": [
    "def index_module_run():\n",
    "    docs_dict = read_docs_dict(index_read)\n",
    "    tfidf_matrix, vectorizer = get_tfidf_model(docs_dict)\n",
    "    save_model(tfidf_matrix, vectorizer, index_write)"
   ]
  },
  {
   "attachments": {},
   "cell_type": "markdown",
   "metadata": {},
   "source": [
    "Run Module 3"
   ]
  },
  {
   "cell_type": "code",
   "execution_count": 29,
   "metadata": {},
   "outputs": [],
   "source": [
    "index_module_run()\n",
    "logger.info(\"Module 3: Index finished.\")"
   ]
  },
  {
   "attachments": {},
   "cell_type": "markdown",
   "metadata": {},
   "source": [
    "Module 4 - Searcher"
   ]
  },
  {
   "cell_type": "code",
   "execution_count": 30,
   "metadata": {},
   "outputs": [],
   "source": [
    "logger.info(\"Module 4: Searcher started\")\n",
    "def load_tfidf_matrix():\n",
    "    # Load the tf-idf matrix from a pickle file\n",
    "    with open(busca_model, 'rb') as f:\n",
    "        tfidf_matrix, vectorizer = pickle.load(f)\n",
    "        logger.info(\"tfidf model loaded from %s\" %busca_model)\n",
    "        return tfidf_matrix, vectorizer"
   ]
  },
  {
   "cell_type": "code",
   "execution_count": 31,
   "metadata": {},
   "outputs": [],
   "source": [
    "def load_queries(busca_queries, stemmer = False):\n",
    "    queries_df = pd.read_csv(busca_queries, delimiter=';', quotechar='\"')\n",
    "    queries = dict(zip(queries_df['QueryNumber'], queries_df['QueryText']))\n",
    "    logger.info(\"Queries loaded from %s\" %busca_queries)\n",
    "    return queries\n"
   ]
  },
  {
   "cell_type": "code",
   "execution_count": 32,
   "metadata": {},
   "outputs": [],
   "source": [
    "def calculate_similarity(tfidf_matrix, vectorizer, queries):\n",
    "    query_matrix = vectorizer.transform(queries.values())\n",
    "    query_matrix = TfidfVectorizer(vocabulary=vectorizer.vocabulary_).fit_transform(queries.values()) \n",
    "    query_matrix_binary = query_matrix.sign() #.sign() is used so weight is 1 for all words in query and 0 if word not in query\n",
    "\n",
    "    similarity_matrix = cosine_similarity(tfidf_matrix, query_matrix_binary)\n",
    "    results = []\n",
    "\n",
    "    for query_number, query_text in queries.items():\n",
    "        similarity_scores = similarity_matrix[:, list(queries.keys()).index(query_number)]\n",
    "        sorted_indices = np.argsort(similarity_scores)[::-1]\n",
    "\n",
    "        for rank, index in enumerate(sorted_indices):\n",
    "            document_number = index + 1\n",
    "            similarity_distance = similarity_scores[index]\n",
    "            results.append([query_number, [rank+1, document_number, similarity_distance]])\n",
    "\n",
    "    return results"
   ]
  },
  {
   "cell_type": "code",
   "execution_count": 33,
   "metadata": {},
   "outputs": [],
   "source": [
    "def write_results(busca_results, results):\n",
    "    with open(busca_results, 'w', newline='') as f:\n",
    "        writer = csv.writer(f, delimiter=';')\n",
    "        writer.writerows(results)\n",
    "    logger.info(\"Results saved to %s\" %busca_results)"
   ]
  },
  {
   "cell_type": "code",
   "execution_count": 34,
   "metadata": {},
   "outputs": [],
   "source": [
    "def busca_module_run():\n",
    "    tfidf_matrix, vectorizer = load_tfidf_matrix() \n",
    "    queries = load_queries(busca_queries)\n",
    "    results = calculate_similarity(tfidf_matrix, vectorizer, queries)\n",
    "    write_results(busca_results, results)"
   ]
  },
  {
   "attachments": {},
   "cell_type": "markdown",
   "metadata": {},
   "source": [
    "Run Module 4"
   ]
  },
  {
   "cell_type": "code",
   "execution_count": 35,
   "metadata": {},
   "outputs": [],
   "source": [
    "busca_module_run()\n",
    "logger.info(\"Module 4: Searcher finished\")\n",
    "logger.info(\"Execution completed\")"
   ]
  },
  {
   "attachments": {},
   "cell_type": "markdown",
   "metadata": {},
   "source": [
    "Module 5: Evaluation"
   ]
  },
  {
   "cell_type": "code",
   "execution_count": 36,
   "metadata": {},
   "outputs": [],
   "source": [
    "expected_df = pd.read_csv(pc_expected, sep=';')\n",
    "results_df = pd.read_csv(busca_results, sep=';', header = None, names = ['QueryNumber', 'Column2'])"
   ]
  },
  {
   "cell_type": "code",
   "execution_count": 37,
   "metadata": {},
   "outputs": [],
   "source": [
    "# Split the second column into separate columns with column names\n",
    "new_columns = results_df['Column2'].str.strip(\"[]\").str.split(\",\", expand=True)\n",
    "new_columns.columns = ['Rank', 'DocNumber', 'cosine_distance_metric']\n",
    "\n",
    "# Join the new columns to the original DataFrame\n",
    "results_df = results_df.drop(columns=['Column2']).join(new_columns)\n",
    "\n",
    "results_df['Rank'] = results_df['Rank'].astype('int64')\n",
    "results_df['DocNumber'] = results_df['DocNumber'].astype('int64')\n",
    "results_df['cosine_distance_metric'] = results_df['cosine_distance_metric'].astype('float')"
   ]
  },
  {
   "cell_type": "code",
   "execution_count": 38,
   "metadata": {},
   "outputs": [
    {
     "data": {
      "text/html": [
       "<div>\n",
       "<style scoped>\n",
       "    .dataframe tbody tr th:only-of-type {\n",
       "        vertical-align: middle;\n",
       "    }\n",
       "\n",
       "    .dataframe tbody tr th {\n",
       "        vertical-align: top;\n",
       "    }\n",
       "\n",
       "    .dataframe thead th {\n",
       "        text-align: right;\n",
       "    }\n",
       "</style>\n",
       "<table border=\"1\" class=\"dataframe\">\n",
       "  <thead>\n",
       "    <tr style=\"text-align: right;\">\n",
       "      <th></th>\n",
       "      <th>QueryNumber</th>\n",
       "      <th>Rank</th>\n",
       "      <th>DocNumber</th>\n",
       "      <th>cosine_distance_metric</th>\n",
       "      <th>DocVotes</th>\n",
       "      <th>labels</th>\n",
       "    </tr>\n",
       "  </thead>\n",
       "  <tbody>\n",
       "    <tr>\n",
       "      <th>0</th>\n",
       "      <td>1</td>\n",
       "      <td>1</td>\n",
       "      <td>1139</td>\n",
       "      <td>0.187021</td>\n",
       "      <td>NaN</td>\n",
       "      <td>0</td>\n",
       "    </tr>\n",
       "    <tr>\n",
       "      <th>1</th>\n",
       "      <td>1</td>\n",
       "      <td>2</td>\n",
       "      <td>1008</td>\n",
       "      <td>0.152045</td>\n",
       "      <td>NaN</td>\n",
       "      <td>0</td>\n",
       "    </tr>\n",
       "    <tr>\n",
       "      <th>2</th>\n",
       "      <td>1</td>\n",
       "      <td>3</td>\n",
       "      <td>911</td>\n",
       "      <td>0.149373</td>\n",
       "      <td>NaN</td>\n",
       "      <td>0</td>\n",
       "    </tr>\n",
       "    <tr>\n",
       "      <th>3</th>\n",
       "      <td>1</td>\n",
       "      <td>4</td>\n",
       "      <td>836</td>\n",
       "      <td>0.148010</td>\n",
       "      <td>NaN</td>\n",
       "      <td>0</td>\n",
       "    </tr>\n",
       "    <tr>\n",
       "      <th>4</th>\n",
       "      <td>1</td>\n",
       "      <td>5</td>\n",
       "      <td>728</td>\n",
       "      <td>0.145158</td>\n",
       "      <td>NaN</td>\n",
       "      <td>0</td>\n",
       "    </tr>\n",
       "    <tr>\n",
       "      <th>...</th>\n",
       "      <td>...</td>\n",
       "      <td>...</td>\n",
       "      <td>...</td>\n",
       "      <td>...</td>\n",
       "      <td>...</td>\n",
       "      <td>...</td>\n",
       "    </tr>\n",
       "    <tr>\n",
       "      <th>120280</th>\n",
       "      <td>100</td>\n",
       "      <td>1211</td>\n",
       "      <td>462</td>\n",
       "      <td>0.027515</td>\n",
       "      <td>NaN</td>\n",
       "      <td>0</td>\n",
       "    </tr>\n",
       "    <tr>\n",
       "      <th>120281</th>\n",
       "      <td>100</td>\n",
       "      <td>1212</td>\n",
       "      <td>225</td>\n",
       "      <td>0.026229</td>\n",
       "      <td>NaN</td>\n",
       "      <td>0</td>\n",
       "    </tr>\n",
       "    <tr>\n",
       "      <th>120282</th>\n",
       "      <td>100</td>\n",
       "      <td>1213</td>\n",
       "      <td>39</td>\n",
       "      <td>0.025986</td>\n",
       "      <td>NaN</td>\n",
       "      <td>0</td>\n",
       "    </tr>\n",
       "    <tr>\n",
       "      <th>120283</th>\n",
       "      <td>100</td>\n",
       "      <td>1214</td>\n",
       "      <td>549</td>\n",
       "      <td>0.024833</td>\n",
       "      <td>NaN</td>\n",
       "      <td>0</td>\n",
       "    </tr>\n",
       "    <tr>\n",
       "      <th>120284</th>\n",
       "      <td>100</td>\n",
       "      <td>1215</td>\n",
       "      <td>1001</td>\n",
       "      <td>0.000000</td>\n",
       "      <td>NaN</td>\n",
       "      <td>0</td>\n",
       "    </tr>\n",
       "  </tbody>\n",
       "</table>\n",
       "<p>120285 rows × 6 columns</p>\n",
       "</div>"
      ],
      "text/plain": [
       "        QueryNumber  Rank  DocNumber  cosine_distance_metric  DocVotes  labels\n",
       "0                 1     1       1139                0.187021       NaN       0\n",
       "1                 1     2       1008                0.152045       NaN       0\n",
       "2                 1     3        911                0.149373       NaN       0\n",
       "3                 1     4        836                0.148010       NaN       0\n",
       "4                 1     5        728                0.145158       NaN       0\n",
       "...             ...   ...        ...                     ...       ...     ...\n",
       "120280          100  1211        462                0.027515       NaN       0\n",
       "120281          100  1212        225                0.026229       NaN       0\n",
       "120282          100  1213         39                0.025986       NaN       0\n",
       "120283          100  1214        549                0.024833       NaN       0\n",
       "120284          100  1215       1001                0.000000       NaN       0\n",
       "\n",
       "[120285 rows x 6 columns]"
      ]
     },
     "execution_count": 38,
     "metadata": {},
     "output_type": "execute_result"
    }
   ],
   "source": [
    "# Perform a left join on results_df and expected_df\n",
    "merged_df = results_df.merge(expected_df, on=['QueryNumber', 'DocNumber'], how='left')\n",
    "\n",
    "# Sort the merged_df by Rank in ascending order\n",
    "sorted_df = merged_df.sort_values(by=['QueryNumber','Rank'])\n",
    "\n",
    "threshold = 0  # Adjust the threshold as needed\n",
    "# Convert DocVotes to binary classification labels\n",
    "sorted_df['labels'] = np.where(sorted_df['DocVotes'] > threshold, 1, 0)\n",
    "sorted_df\n"
   ]
  },
  {
   "cell_type": "code",
   "execution_count": 39,
   "metadata": {},
   "outputs": [],
   "source": [
    "if not os.path.exists(\"AVALIA\"):\n",
    "    os.makedirs(\"AVALIA\")\n",
    "evaluation_dir = \"AVALIA\"\n",
    "    \n",
    "if gli_stemmer:\n",
    "    report_file = \"RELATORIO-STEMMER.md\"\n",
    "    r_precision_histogram_filename = \"R_Precision_histogram-stemmer\"\n",
    "    eleven_point_plot_curve_filename = \"11_points_curve-stemmer\"\n",
    "else:\n",
    "    report_file = \"RELATORIO-NOSTEMMER.md\"\n",
    "    r_precision_histogram_filename = \"R_Precision_histogram-nostemmer\"\n",
    "    eleven_point_plot_curve_filename = \"11_points_curve-nostemmer\""
   ]
  },
  {
   "attachments": {},
   "cell_type": "markdown",
   "metadata": {},
   "source": [
    "11-points precision recall curve"
   ]
  },
  {
   "cell_type": "code",
   "execution_count": 40,
   "metadata": {},
   "outputs": [],
   "source": [
    "def eleven_points_precision_recall_curve(filepath,filename): # Initialize an empty list to store the precision and recall values for each query\n",
    "    precision_values = []\n",
    "    recall_values = []\n",
    "\n",
    "    # Loop through each unique query number\n",
    "    for query_number in sorted_df['QueryNumber'].unique():\n",
    "        # Filter the DataFrame for the current query number\n",
    "        query_df = sorted_df[sorted_df['QueryNumber'] == query_number]\n",
    "        \n",
    "        # Get the relevant documents for the current query\n",
    "        relevant_documents = query_df[query_df['labels'] == 1]\n",
    "        total_relevant_documents = len(relevant_documents)\n",
    "        \n",
    "        # Calculate precision and recall at fixed intervals\n",
    "        precision = []\n",
    "        recall = []\n",
    "        \n",
    "        number_of_points = 11\n",
    "        incremental_results_index = int(len(query_df) / number_of_points)\n",
    "        \n",
    "        for i in range(number_of_points):\n",
    "            results_ranking = query_df.iloc[:((i + 1) * incremental_results_index)]\n",
    "            true_positives = len(results_ranking[results_ranking['labels'] == 1])\n",
    "            \n",
    "            precision.append(true_positives / len(results_ranking))\n",
    "            recall.append(true_positives / total_relevant_documents)\n",
    "        \n",
    "        # Append precision and recall values to the overall lists\n",
    "        precision_values.append(precision)\n",
    "        recall_values.append(recall)\n",
    "\n",
    "    # Compute the mean precision and mean recall across all queries\n",
    "    mean_precisions = np.mean(precision_values, axis=0)\n",
    "    mean_recalls = np.mean(recall_values, axis=0)\n",
    "\n",
    "    # Plot the mean precision vs. mean recall scatter plot\n",
    "    plt.scatter(mean_recalls, mean_precisions)\n",
    "    plt.title(\"Mean Precision x Mean Recall\")\n",
    "    plt.xlabel('Recall')\n",
    "    plt.ylabel('Precision')\n",
    "    plt.savefig(os.path.join(filepath, filename) +\".png\")\n",
    "    plt.savefig(os.path.join(filepath, filename) + \"-2.pdf\", format='pdf')\n",
    "    \n",
    "    df = pd.DataFrame({\"Precision\": mean_precisions, \"Recall\": mean_recalls})\n",
    "    df.to_csv(f\"{os.path.join(filepath, filename)}-1.csv\")\n",
    "    \n",
    "    plt.show()"
   ]
  },
  {
   "cell_type": "code",
   "execution_count": 41,
   "metadata": {},
   "outputs": [
    {
     "data": {
      "text/plain": [
       "Text(0, 0.5, 'Precision')"
      ]
     },
     "execution_count": 41,
     "metadata": {},
     "output_type": "execute_result"
    },
    {
     "data": {
      "image/png": "[encoded data removed]",
      "text/plain": [
       "<Figure size 640x480 with 1 Axes>"
      ]
     },
     "metadata": {},
     "output_type": "display_data"
    }
   ],
   "source": [
    "precision_values = []\n",
    "recall_values = []\n",
    "\n",
    "# Loop through each unique query number\n",
    "for query_number in sorted_df['QueryNumber'].unique():\n",
    "    # Filter the DataFrame for the current query number\n",
    "    query_df = sorted_df[sorted_df['QueryNumber'] == query_number]\n",
    "    \n",
    "    # Get the relevant documents for the current query\n",
    "    relevant_documents = query_df[query_df['labels'] == 1]\n",
    "    total_relevant_documents = len(relevant_documents)\n",
    "    \n",
    "    # Calculate precision and recall at fixed intervals\n",
    "    precision = []\n",
    "    recall = []\n",
    "    \n",
    "    number_of_points = 11\n",
    "    incremental_results_index = int(len(query_df) / number_of_points)\n",
    "    \n",
    "    for i in range(number_of_points):\n",
    "        results_ranking = query_df.iloc[:((i + 1) * incremental_results_index)]\n",
    "        true_positives = len(results_ranking[results_ranking['labels'] == 1])\n",
    "        \n",
    "        precision.append(true_positives / len(results_ranking))\n",
    "        recall.append(true_positives / total_relevant_documents)\n",
    "    \n",
    "    # Append precision and recall values to the overall lists\n",
    "    precision_values.append(precision)\n",
    "    recall_values.append(recall)\n",
    "\n",
    "# Compute the mean precision and mean recall across all queries\n",
    "mean_precisions = np.mean(precision_values, axis=0)\n",
    "mean_recalls = np.mean(recall_values, axis=0)\n",
    "\n",
    "# Plot the mean precision vs. mean recall scatter plot\n",
    "plt.scatter(mean_recalls, mean_precisions)\n",
    "plt.title(\"Mean Precision x Mean Recall\")\n",
    "plt.xlabel('Recall')\n",
    "plt.ylabel('Precision')\n",
    "\n",
    "\n"
   ]
  },
  {
   "cell_type": "code",
   "execution_count": 42,
   "metadata": {},
   "outputs": [
    {
     "data": {
      "image/png": "[encoded data removed]",
      "text/plain": [
       "<Figure size 640x480 with 1 Axes>"
      ]
     },
     "metadata": {},
     "output_type": "display_data"
    }
   ],
   "source": [
    "eleven_points_precision_recall_curve(evaluation_dir,eleven_point_plot_curve_filename)\n",
    "logger.info(f\"{eleven_point_plot_curve_filename} csv and pdf files created\")"
   ]
  },
  {
   "attachments": {},
   "cell_type": "markdown",
   "metadata": {},
   "source": [
    "F1 score"
   ]
  },
  {
   "cell_type": "code",
   "execution_count": 43,
   "metadata": {},
   "outputs": [],
   "source": [
    "def f1():\n",
    "\n",
    "    # Initialize lists to store true positives, false positives, and false negatives for each query\n",
    "    true_positives = []\n",
    "    false_positives = []\n",
    "    false_negatives = []\n",
    "\n",
    "    # Loop through each unique query number\n",
    "    for query_number in sorted_df['QueryNumber'].unique():\n",
    "        # Filter the DataFrame for the current query number\n",
    "        query_df = sorted_df[sorted_df['QueryNumber'] == query_number]\n",
    "        \n",
    "        # Get the relevant documents for the current query\n",
    "        relevant_documents = query_df[query_df['labels'] == 1]\n",
    "        \n",
    "        # Count true positives, false positives, and false negatives\n",
    "        tp = len(relevant_documents)\n",
    "        fp = np.sum(query_df['labels'] == 0)\n",
    "        fn = 0 if tp > 0 else 1\n",
    "        \n",
    "        # Append the counts to the overall lists\n",
    "        true_positives.append(tp)\n",
    "        false_positives.append(fp)\n",
    "        false_negatives.append(fn)\n",
    "\n",
    "    # Calculate precision, recall, and F1 score for each query\n",
    "    precisions = np.divide(true_positives, np.add(true_positives, false_positives))\n",
    "    recalls = np.divide(true_positives, np.add(true_positives, false_negatives))\n",
    "    f1_scores = np.divide(2 * np.multiply(precisions, recalls), np.add(precisions, recalls))\n",
    "\n",
    "    # Compute the average precision, recall, and F1 score across all queries\n",
    "    avg_f1 = np.mean(f1_scores)\n",
    "\n",
    "    return avg_f1\n"
   ]
  },
  {
   "cell_type": "code",
   "execution_count": 44,
   "metadata": {},
   "outputs": [
    {
     "data": {
      "text/plain": [
       "0.0724696466960625"
      ]
     },
     "execution_count": 44,
     "metadata": {},
     "output_type": "execute_result"
    }
   ],
   "source": [
    "f1()"
   ]
  },
  {
   "attachments": {},
   "cell_type": "markdown",
   "metadata": {},
   "source": [
    "Precision@5 and Precision@10"
   ]
  },
  {
   "cell_type": "code",
   "execution_count": 45,
   "metadata": {},
   "outputs": [],
   "source": [
    "def precision_at_k(k):\n",
    "\n",
    "    # Initialize variables to store precision@5 and precision@10 values\n",
    "    precision_at_k = []\n",
    "\n",
    "    # Loop through each unique query number\n",
    "    for query_number in sorted_df['QueryNumber'].unique():\n",
    "        # Filter the DataFrame for the current query number\n",
    "        query_df = sorted_df[sorted_df['QueryNumber'] == query_number]\n",
    "        \n",
    "        # Get the labels and ranks for the current query\n",
    "        labels = query_df['labels']\n",
    "        ranks = query_df['Rank']\n",
    "        \n",
    "        # Calculate precision@k\n",
    "        precisionk = np.mean(labels[ranks <= k])\n",
    "        \n",
    "        # Append the precision values to the overall lists\n",
    "        precision_at_k.append(precisionk)\n",
    "\n",
    "    # Compute the average precision@5 and precision@10 across all queries\n",
    "    avg_precision_at_k = np.mean(precision_at_k)\n",
    "\n",
    "    # Print the average precision@5 and precision@10\n",
    "    return avg_precision_at_k"
   ]
  },
  {
   "cell_type": "code",
   "execution_count": 46,
   "metadata": {},
   "outputs": [
    {
     "data": {
      "text/plain": [
       "0.04848484848484849"
      ]
     },
     "execution_count": 46,
     "metadata": {},
     "output_type": "execute_result"
    }
   ],
   "source": [
    "precision_at_k(5)"
   ]
  },
  {
   "cell_type": "code",
   "execution_count": 47,
   "metadata": {},
   "outputs": [
    {
     "data": {
      "text/plain": [
       "0.0494949494949495"
      ]
     },
     "execution_count": 47,
     "metadata": {},
     "output_type": "execute_result"
    }
   ],
   "source": [
    "precision_at_k(10)"
   ]
  },
  {
   "attachments": {},
   "cell_type": "markdown",
   "metadata": {},
   "source": [
    "R-Precision Histogram"
   ]
  },
  {
   "cell_type": "code",
   "execution_count": 48,
   "metadata": {},
   "outputs": [],
   "source": [
    "def r_precision_histogram(filepath, filename):\n",
    "\n",
    "    # Initialize lists to store query numbers and R precision values\n",
    "    query_numbers = []\n",
    "    r_precision_values = []\n",
    "\n",
    "    # Loop through each unique query number\n",
    "    for query_number in sorted_df['QueryNumber'].unique():\n",
    "        # Filter the DataFrame for the current query number\n",
    "        query_df = sorted_df[sorted_df['QueryNumber'] == query_number]\n",
    "        \n",
    "        # Get the labels and calculate R precision\n",
    "        labels = query_df['labels']\n",
    "        r_precision = np.mean(labels[:len(labels)])\n",
    "        \n",
    "        # Append the query number and R precision value to the lists\n",
    "        query_numbers.append(query_number)\n",
    "        r_precision_values.append(r_precision)\n",
    "\n",
    "    # Plot the R precision values\n",
    "    plt.bar(query_numbers, r_precision_values, color='b')\n",
    "    plt.xlabel('Query Number')\n",
    "    plt.ylabel('R Precision')\n",
    "    plt.title('R Precision for Each Query')\n",
    "    plt.grid(True)\n",
    "\n",
    "    plt.savefig(os.path.join(filepath, filename) + \".png\")\n",
    "    plt.savefig(os.path.join(filepath, filename) + \"-2.pdf\", format='pdf')\n",
    "    \n",
    "    df = pd.DataFrame({\"QueryNumber\": query_numbers, \"R_Precision\": r_precision_values})\n",
    "    df.to_csv(f\"{os.path.join(filepath, filename)}-1.csv\")\n",
    "    \n",
    "    plt.show()"
   ]
  },
  {
   "cell_type": "code",
   "execution_count": 49,
   "metadata": {},
   "outputs": [
    {
     "data": {
      "image/png": "[encoded data removed]",
      "text/plain": [
       "<Figure size 640x480 with 1 Axes>"
      ]
     },
     "metadata": {},
     "output_type": "display_data"
    }
   ],
   "source": [
    "r_precision_histogram(evaluation_dir, r_precision_histogram_filename)\n",
    "logger.info(f\"{r_precision_histogram_filename} csv and pdf files created\")"
   ]
  },
  {
   "attachments": {},
   "cell_type": "markdown",
   "metadata": {},
   "source": [
    "Mean Average Precision"
   ]
  },
  {
   "cell_type": "code",
   "execution_count": 50,
   "metadata": {},
   "outputs": [],
   "source": [
    "def mean_average_precision():\n",
    "\n",
    "    # Initialize a list to store average precision values for each query\n",
    "    average_precision_values = []\n",
    "\n",
    "    # Loop through each unique query number\n",
    "    for query_number in sorted_df['QueryNumber'].unique():\n",
    "        # Filter the DataFrame for the current query number\n",
    "        query_df = sorted_df[sorted_df['QueryNumber'] == query_number]\n",
    "        \n",
    "        # Get the labels\n",
    "        labels = query_df['labels']\n",
    "        \n",
    "        # Calculate precision at each rank\n",
    "        precision = np.cumsum(labels) / (np.arange(len(labels)) + 1)\n",
    "        \n",
    "        # Calculate average precision\n",
    "        average_precision = np.sum(precision * labels) / np.sum(labels)\n",
    "        \n",
    "        # Append the average precision value to the overall list\n",
    "        average_precision_values.append(average_precision)\n",
    "\n",
    "    # Compute the mean average precision across all queries\n",
    "    mean_average_precision = np.mean(average_precision_values)\n",
    "\n",
    "    return mean_average_precision"
   ]
  },
  {
   "cell_type": "code",
   "execution_count": 51,
   "metadata": {},
   "outputs": [
    {
     "data": {
      "text/plain": [
       "0.04617688440239177"
      ]
     },
     "execution_count": 51,
     "metadata": {},
     "output_type": "execute_result"
    }
   ],
   "source": [
    "mean_average_precision()"
   ]
  },
  {
   "attachments": {},
   "cell_type": "markdown",
   "metadata": {},
   "source": [
    "Mean Reciprocal Rank"
   ]
  },
  {
   "cell_type": "code",
   "execution_count": 52,
   "metadata": {},
   "outputs": [],
   "source": [
    "def mean_reciprocal_rank():\n",
    "\n",
    "    # Initialize a list to store reciprocal rank values for each query\n",
    "    reciprocal_rank_values = []\n",
    "\n",
    "    # Loop through each unique query number\n",
    "    for query_number in sorted_df['QueryNumber'].unique():\n",
    "        # Filter the DataFrame for the current query number\n",
    "        query_df = sorted_df[sorted_df['QueryNumber'] == query_number]\n",
    "        \n",
    "        # Get the ranks within the limit rank\n",
    "        ranks = query_df['Rank']\n",
    "        ranks_limit = ranks[ranks <= 10]  # Consider ranks up to 10\n",
    "        \n",
    "        # Find the index of the first relevant document (label = 1) within the limit rank\n",
    "        first_relevant_index = np.argmax(query_df['labels'].iloc[:10] == 1) if len(query_df) >= 10 else -1\n",
    "        \n",
    "        # Calculate the reciprocal rank within the limit rank\n",
    "        reciprocal_rank = 1 / (first_relevant_index + 1) if first_relevant_index >= 0 else 0\n",
    "        \n",
    "        # Append the reciprocal rank value to the overall list\n",
    "        reciprocal_rank_values.append(reciprocal_rank)\n",
    "\n",
    "    # Compute the mean reciprocal rank across all queries\n",
    "    mean_reciprocal_rank = np.mean(reciprocal_rank_values)\n",
    "\n",
    "    return mean_reciprocal_rank"
   ]
  },
  {
   "cell_type": "code",
   "execution_count": 53,
   "metadata": {},
   "outputs": [
    {
     "data": {
      "text/plain": [
       "0.784419592752926"
      ]
     },
     "execution_count": 53,
     "metadata": {},
     "output_type": "execute_result"
    }
   ],
   "source": [
    "mean_reciprocal_rank()"
   ]
  },
  {
   "attachments": {},
   "cell_type": "markdown",
   "metadata": {},
   "source": [
    "Discounted Cumulative Gain"
   ]
  },
  {
   "cell_type": "code",
   "execution_count": 54,
   "metadata": {},
   "outputs": [],
   "source": [
    "def discounted_cumulative_gain():\n",
    "\n",
    "    dcg_values = []\n",
    "    sorted_df['DocVotes'].fillna(0, inplace=True)\n",
    "\n",
    "    # Loop through each unique query number\n",
    "    for query_number in sorted_df['QueryNumber'].unique():\n",
    "        # Filter the DataFrame for the current query number\n",
    "        query_df = sorted_df[sorted_df['QueryNumber'] == query_number]\n",
    "\n",
    "        # Get the relevance scores for the query's documents\n",
    "        relevance_scores = np.asarray([query_df['DocVotes']])\n",
    "        result_scores = np.asarray([query_df['cosine_distance_metric']])\n",
    "\n",
    "        # Calculate the NDCG for the query up to rank 10\n",
    "        dcg = dcg_score(relevance_scores, result_scores, k=10)\n",
    "        \n",
    "        # Append the NDCG value to the list\n",
    "        dcg_values.append(dcg)\n",
    "\n",
    "    # Compute the mean NDCG across all queries\n",
    "    mean_dcg = np.mean(dcg_values)\n",
    "\n",
    "    return mean_dcg\n"
   ]
  },
  {
   "cell_type": "code",
   "execution_count": 55,
   "metadata": {},
   "outputs": [
    {
     "data": {
      "text/plain": [
       "0.48051683433255943"
      ]
     },
     "execution_count": 55,
     "metadata": {},
     "output_type": "execute_result"
    }
   ],
   "source": [
    "discounted_cumulative_gain()"
   ]
  },
  {
   "attachments": {},
   "cell_type": "markdown",
   "metadata": {},
   "source": [
    "Normalized Discounted Cumulative Gain"
   ]
  },
  {
   "cell_type": "code",
   "execution_count": 56,
   "metadata": {},
   "outputs": [],
   "source": [
    "def normalized_discounted_cumulative_gain():\n",
    "    ndcg_values = []\n",
    "    sorted_df['DocVotes'].fillna(0, inplace=True)\n",
    "\n",
    "    # Loop through each unique query number\n",
    "    for query_number in sorted_df['QueryNumber'].unique():\n",
    "        # Filter the DataFrame for the current query number\n",
    "        query_df = sorted_df[sorted_df['QueryNumber'] == query_number]\n",
    "\n",
    "        # Get the relevance scores for the query's documents\n",
    "        relevance_scores = np.asarray([query_df['DocVotes']])\n",
    "        result_scores = np.asarray([query_df['cosine_distance_metric']])\n",
    "\n",
    "        # Calculate the NDCG for the query up to rank 10\n",
    "        ndcg = ndcg_score(relevance_scores, result_scores, k=10)\n",
    "        \n",
    "        # Append the NDCG value to the list\n",
    "        ndcg_values.append(ndcg)\n",
    "\n",
    "    # Compute the mean NDCG across all queries\n",
    "    mean_ndcg = np.mean(ndcg_values)\n",
    "\n",
    "    return mean_ndcg"
   ]
  },
  {
   "cell_type": "code",
   "execution_count": 57,
   "metadata": {},
   "outputs": [
    {
     "data": {
      "text/plain": [
       "0.0156754911360337"
      ]
     },
     "execution_count": 57,
     "metadata": {},
     "output_type": "execute_result"
    }
   ],
   "source": [
    "normalized_discounted_cumulative_gain()"
   ]
  },
  {
   "cell_type": "code",
   "execution_count": 58,
   "metadata": {},
   "outputs": [],
   "source": [
    "total_queries = len(sorted_df['QueryNumber'].unique())\n",
    "report_filepath = os.path.join(evaluation_dir, report_file)\n",
    "f1_score = f1()\n",
    "logger.info(f\"F1 score calculated: {f1_score}.\")\n",
    "precision5 = precision_at_k(5)\n",
    "logger.info(f\"Precision@5 calculated: {precision5}.\")\n",
    "precision10 = precision_at_k(10)\n",
    "logger.info(f\"Precision@10 calculated: {precision10}.\")\n",
    "map = mean_average_precision()\n",
    "logger.info(f\"Mean average precision calculated: {map}.\")\n",
    "mrr = mean_reciprocal_rank()\n",
    "logger.info(f\"Mean reciprocal rank calculated: {mrr}.\")\n",
    "dcg = discounted_cumulative_gain()\n",
    "logger.info(f\"Discounted cumulativa gain calculated: {f1_score}.\")\n",
    "ndcg = normalized_discounted_cumulative_gain()\n",
    "logger.info(f\"Normalized discounted cumulative gain calculated: {f1_score}.\")\n"
   ]
  },
  {
   "cell_type": "code",
   "execution_count": 59,
   "metadata": {},
   "outputs": [],
   "source": [
    "def generate_report():\n",
    "    \n",
    "    logger.info(f\"Generating report file {report_file}.\")\n",
    "            \n",
    "    with open(os.path.join(evaluation_dir, report_file), \"w\", encoding=\"utf-8\") as file:\n",
    "        file.write(\"# Avaliação dos Resultados\\n\\n\")\n",
    "        file.write(f\"Total de queries: {total_queries}\\n\\n\")\n",
    "        file.write(f\"Utilizando Porter Stemmer? {'Sim' if gli_stemmer else 'Não'}\\n\\n\")\n",
    "        file.write(\"## 11-point precision recall curve\\n\\n\")\n",
    "        file.write(f'![11 point precision recall curve]({eleven_point_plot_curve_filename}+\".png\")\\n')\n",
    "        file.write(\"## F1 Score\\n\\n\")\n",
    "        file.write(f\"F1 Score médio das queries: {f1_score}\\n\\n\")\n",
    "        file.write(\"## Precision@5\\n\\n\")\n",
    "        file.write(f\"Precision@5 médio das questies: {precision5}\\n\\n\")\n",
    "        file.write(\"## Precision@10\\n\\n\")\n",
    "        file.write(f\"Precision@10 médio das questies: {precision10}\\n\\n\")\n",
    "        file.write(\"## Histograma R-Precision\\n\\n\")\n",
    "        file.write(f'![R-Precision]({r_precision_histogram_filename}+\".png\")\\n')\n",
    "        file.write(\"## Mean Average Precision\\n\\n\")\n",
    "        file.write(f\"Mean Average Precision das queries: {map}\\n\\n\")\n",
    "        file.write(\"## Mean Reciprocal Rank\\n\\n\")\n",
    "        file.write(f\"Mean Reciprocal Rank das queries: {mrr}\\n\\n\") \n",
    "        file.write(\"## Discounted Cumulative Gain\\n\\n\")\n",
    "        file.write(f\"Discounted Cumulative Gain médio das queries: {dcg}\\n\\n\") \n",
    "        file.write(\"## Normalized Discounted Cumulative Gain\\n\\n\")\n",
    "        file.write(f\"Normalized Discounted Cumulative Gain médio das queries: {ndcg}\\n\\n\") \n",
    "  \n",
    "        logger.info(f\"Report file generated and saved at {report_filepath}.\")"
   ]
  },
  {
   "cell_type": "code",
   "execution_count": 60,
   "metadata": {},
   "outputs": [],
   "source": [
    "generate_report()"
   ]
  }
 ],
 "metadata": {
  "kernelspec": {
   "display_name": "Python 3",
   "language": "python",
   "name": "python3"
  },
  "language_info": {
   "codemirror_mode": {
    "name": "ipython",
    "version": 3
   },
   "file_extension": ".py",
   "mimetype": "text/x-python",
   "name": "python",
   "nbconvert_exporter": "python",
   "pygments_lexer": "ipython3",
   "version": "3.10.9"
  },
  "orig_nbformat": 4
 },
 "nbformat": 4,
 "nbformat_minor": 2
}
